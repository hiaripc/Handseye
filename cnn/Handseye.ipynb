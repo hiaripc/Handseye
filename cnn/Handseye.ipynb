{
 "cells": [
  {
   "cell_type": "code",
   "execution_count": 1,
   "id": "81bfa25f",
   "metadata": {},
   "outputs": [
    {
     "name": "stderr",
     "output_type": "stream",
     "text": [
      "YOLOv5 🚀 v6.2-56-g30e674b Python-3.9.12 torch-1.12.1 CUDA:0 (NVIDIA GeForce RTX 3050 Ti Laptop GPU, 3913MiB)\n"
     ]
    },
    {
     "name": "stdout",
     "output_type": "stream",
     "text": [
      "Setup complete ✅ (16 CPUs, 15.4 GB RAM, 113.3/187.3 GB disk)\n"
     ]
    }
   ],
   "source": [
    "import torch\n",
    "from yolov5 import utils\n",
    "import utils\n",
    "from IPython import display\n",
    "from IPython.display import clear_output\n",
    "from pathlib import Path\n",
    "import yaml\n",
    "import matplotlib.pyplot as plt\n",
    "import matplotlib.image as mpimg\n",
    "import glob\n",
    "%matplotlib inline\n",
    "display = utils.notebook_init()"
   ]
  },
  {
   "cell_type": "code",
   "execution_count": 8,
   "id": "73e2365c",
   "metadata": {},
   "outputs": [
    {
     "name": "stdout",
     "output_type": "stream",
     "text": [
      "/bin/bash: /home/hiari/anaconda3/envs/tf/lib/libtinfo.so.6: no version information available (required by /bin/bash)\n",
      "\u001b[34m\u001b[1mtrain: \u001b[0mweights=yolov5s6.pt, cfg=, data=../roboflow/dataset/data.yaml, hyp=data/hyps/hyp.scratch-low.yaml, epochs=150, batch_size=32, imgsz=640, rect=False, resume=False, nosave=False, noval=False, noautoanchor=False, noplots=False, evolve=None, bucket=, cache=ram, image_weights=False, device=, multi_scale=False, single_cls=False, optimizer=SGD, sync_bn=False, workers=8, project=runs/train, name=exp, exist_ok=False, quad=False, cos_lr=False, label_smoothing=0.0, patience=100, freeze=[12], save_period=-1, seed=0, local_rank=-1, entity=None, upload_dataset=False, bbox_interval=-1, artifact_alias=latest\n",
      "\u001b[34m\u001b[1mgithub: \u001b[0mup to date with https://github.com/ultralytics/yolov5 ✅\n",
      "YOLOv5 🚀 v6.2-56-g30e674b Python-3.9.12 torch-1.12.1 CUDA:0 (NVIDIA GeForce RTX 3050 Ti Laptop GPU, 3913MiB)\n",
      "\n",
      "\u001b[34m\u001b[1mhyperparameters: \u001b[0mlr0=0.01, lrf=0.01, momentum=0.937, weight_decay=0.0005, warmup_epochs=3.0, warmup_momentum=0.8, warmup_bias_lr=0.1, box=0.05, cls=0.5, cls_pw=1.0, obj=1.0, obj_pw=1.0, iou_t=0.2, anchor_t=4.0, fl_gamma=0.0, hsv_h=0.015, hsv_s=0.7, hsv_v=0.4, degrees=0.0, translate=0.1, scale=0.5, shear=0.0, perspective=0.0, flipud=0.0, fliplr=0.5, mosaic=1.0, mixup=0.0, copy_paste=0.0\n",
      "\u001b[34m\u001b[1mWeights & Biases: \u001b[0mrun 'pip install wandb' to automatically track and visualize YOLOv5 🚀 runs in Weights & Biases\n",
      "\u001b[34m\u001b[1mClearML: \u001b[0mrun 'pip install clearml' to automatically track, visualize and remotely train YOLOv5 🚀 in ClearML\n",
      "\u001b[34m\u001b[1mTensorBoard: \u001b[0mStart with 'tensorboard --logdir runs/train', view at http://localhost:6006/\n",
      "2022-08-25 17:08:28.009846: I tensorflow/core/util/util.cc:169] oneDNN custom operations are on. You may see slightly different numerical results due to floating-point round-off errors from different computation orders. To turn them off, set the environment variable `TF_ENABLE_ONEDNN_OPTS=0`.\n",
      "\n",
      "Dataset not found ⚠️, missing paths ['/home/hiari/handseye/cnn/datasets/roboflow/valid/images']\n",
      "Traceback (most recent call last):\n",
      "  File \"/home/hiari/handseye/cnn/yolov5/train.py\", line 630, in <module>\n",
      "    main(opt)\n",
      "  File \"/home/hiari/handseye/cnn/yolov5/train.py\", line 526, in main\n",
      "    train(opt.hyp, opt, device, callbacks)\n",
      "  File \"/home/hiari/handseye/cnn/yolov5/train.py\", line 110, in train\n",
      "    data_dict = data_dict or check_dataset(data)  # check if None\n",
      "  File \"/home/hiari/handseye/cnn/yolov5/utils/general.py\", line 501, in check_dataset\n",
      "    raise Exception('Dataset not found ❌')\n",
      "Exception: Dataset not found ❌\n"
     ]
    }
   ],
   "source": [
    "#Il ! serve per far eseguire un comando al terminale, simile al %. \n",
    "#Il ! è fatto da una shell a parte (altro processo).\n",
    "!python train.py --batch 32 --epochs 150 --data '../roboflow/dataset/data.yaml' --weights 'yolov5s6.pt' --cache --freeze 12 --name\"first_try\" --project\"handseye\""
   ]
  },
  {
   "cell_type": "code",
   "execution_count": null,
   "id": "256e6c37",
   "metadata": {},
   "outputs": [],
   "source": []
  }
 ],
 "metadata": {
  "kernelspec": {
   "display_name": "Python 3 (ipykernel)",
   "language": "python",
   "name": "python3"
  },
  "language_info": {
   "codemirror_mode": {
    "name": "ipython",
    "version": 3
   },
   "file_extension": ".py",
   "mimetype": "text/x-python",
   "name": "python",
   "nbconvert_exporter": "python",
   "pygments_lexer": "ipython3",
   "version": "3.9.12"
  }
 },
 "nbformat": 4,
 "nbformat_minor": 5
}
